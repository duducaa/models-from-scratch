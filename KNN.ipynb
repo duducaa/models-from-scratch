{
 "cells": [
  {
   "cell_type": "code",
   "execution_count": 7,
   "metadata": {},
   "outputs": [],
   "source": [
    "import pandas as pd\n",
    "import numpy as np\n",
    "from collections import Counter\n",
    "import math\n",
    "\n",
    "df = pd.read_csv(\"iris.csv\")"
   ]
  },
  {
   "cell_type": "code",
   "execution_count": 8,
   "metadata": {},
   "outputs": [],
   "source": [
    "class KNN:\n",
    "    def __init__(self, X: np.ndarray, y: np.ndarray):\n",
    "        self.X = X\n",
    "        self.y = y\n",
    "        \n",
    "    def predict(self, X: np.ndarray, k=5):\n",
    "        # calculate the distance between each point of\n",
    "        # test data and every point in train data\n",
    "        distances = self.distances(X)\n",
    "        votes = []\n",
    "        for i in distances:\n",
    "            # find the majority vote of neighbors\n",
    "            votes.append(self.vote(i, k))\n",
    "            \n",
    "        return votes\n",
    "        \n",
    "    def distances(self, X: np.ndarray):\n",
    "        distances = np.sqrt(np.sum(np.pow(self.X - X[:, np.newaxis, :], 2), axis=-1))\n",
    "        return distances\n",
    "\n",
    "    def vote(self, X: np.ndarray, k):\n",
    "        # get the k smallest distances indexes \n",
    "        idxs = np.argsort(X)[:k]\n",
    "        y = self.y[idxs]\n",
    "        \n",
    "        counts = Counter(y)\n",
    "        winner, win_count = counts.most_common(1)[0]\n",
    "        \n",
    "        candidates = [c for c in counts.values() if c == win_count]\n",
    "        \n",
    "        # guarantees no draw, as in:\n",
    "        # [0, 1, 1, 2, 2]\n",
    "        if len(candidates) > 1:\n",
    "            return self.vote(X[:-1], k)\n",
    "        \n",
    "        return winner"
   ]
  },
  {
   "cell_type": "code",
   "execution_count": 9,
   "metadata": {},
   "outputs": [
    {
     "data": {
      "text/plain": [
       "array([0.93333333])"
      ]
     },
     "execution_count": 9,
     "metadata": {},
     "output_type": "execute_result"
    }
   ],
   "source": [
    "def train_test_split(X, y, train_size, shuffle=False):\n",
    "    idx = list(range(X.shape[0]))\n",
    "    if shuffle:\n",
    "        np.random.shuffle(idx)\n",
    "\n",
    "    X = X[idx, :]\n",
    "    y = y[idx]\n",
    "\n",
    "    limit = int(train_size*df.shape[0])\n",
    "    return X[:limit], X[limit:], y[:limit], y[limit:]\n",
    "\n",
    "X = df.iloc[:, :-1].values\n",
    "\n",
    "# categorical columns to numerical\n",
    "y = pd.get_dummies(df[\"species\"], dtype=int).to_numpy().argmax(axis=1)\n",
    "\n",
    "# split shuffled data into train and test\n",
    "X_train, X_test, y_train, y_test = train_test_split(X, y, 0.7, True)\n",
    "\n",
    "knn = KNN(X_train, y_train)\n",
    "\n",
    "# running 1000 test to validate the code\n",
    "accuracies = []\n",
    "for _ in range(1000):\n",
    "    accuracies.append(sum(np.array(knn.predict(X_test)) == y_test) / y_test.shape)\n",
    "\n",
    "sum(accuracies) / len(accuracies)"
   ]
  }
 ],
 "metadata": {
  "kernelspec": {
   "display_name": "Python 3",
   "language": "python",
   "name": "python3"
  },
  "language_info": {
   "codemirror_mode": {
    "name": "ipython",
    "version": 3
   },
   "file_extension": ".py",
   "mimetype": "text/x-python",
   "name": "python",
   "nbconvert_exporter": "python",
   "pygments_lexer": "ipython3",
   "version": "3.10.12"
  }
 },
 "nbformat": 4,
 "nbformat_minor": 2
}
