{
 "cells": [
  {
   "cell_type": "code",
   "execution_count": null,
   "metadata": {},
   "outputs": [],
   "source": [
    "import numpy as np\n",
    "import pandas as pd\n",
    "import matplotlib.pyplot as plt\n",
    "from utils import train_test_split\n",
    "\n",
    "df = pd.read_csv(\"./datasets/LinearRegression/Student_Performance.csv\")\n",
    "df"
   ]
  },
  {
   "cell_type": "code",
   "execution_count": null,
   "metadata": {},
   "outputs": [],
   "source": [
    "df[\"Extracurricular Activities\"] = df[\"Extracurricular Activities\"].map({\"Yes\": 1, \"No\": 0})\n",
    "df.loc[:, [\"Previous Scores\", \"Performance Index\"]] /= 10\n",
    "\n",
    "df.head()"
   ]
  },
  {
   "cell_type": "code",
   "execution_count": null,
   "metadata": {},
   "outputs": [],
   "source": [
    "X = df.iloc[:, :-1].values\n",
    "y = df.iloc[:, -1].values\n",
    "\n",
    "X_train, X_test, y_train, y_test = train_test_split(X, y, 0.7, True)"
   ]
  },
  {
   "cell_type": "code",
   "execution_count": null,
   "metadata": {},
   "outputs": [],
   "source": [
    "class LinearRegression:\n",
    "    def fit(self, X: np.ndarray, y: np.ndarray, epochs: int, batch_size: int, print_every: int):\n",
    "        X = np.hstack((np.ones((X.shape[0], 1)), X))\n",
    "        self.coeff = np.zeros(X.shape[1])\n",
    "        self.losses = []\n",
    "        self.accs = []\n",
    "        self.lrs = []\n",
    "\n",
    "        steps = X.shape[0] // batch_size\n",
    "        steps += int(steps * batch_size < X.shape[0])\n",
    "\n",
    "        for epoch in range(epochs):\n",
    "\n",
    "            total_loss = 0\n",
    "            total_accuracy = 0\n",
    "\n",
    "            for step in range(steps):\n",
    "                X_batch = X[step * batch_size:((step + 1) * batch_size) if steps - step > 1 else None]\n",
    "                y_batch = y[step * batch_size:((step + 1) * batch_size) if steps - step > 1 else None]\n",
    "\n",
    "                result = np.dot(self.coeff, X_batch.T)\n",
    "                errors = result - y_batch\n",
    "                loss = np.mean(errors ** 2)\n",
    "                accuracy = self.r_squared(result, y_batch)\n",
    "                \n",
    "                if print_every > 0 and not step % print_every:\n",
    "                    print(f\"------ step: {step} acc: {accuracy} loss: {loss}\")\n",
    "\n",
    "                grad = [(2 / errors.shape[0]) * np.sum(x_i * errors) for x_i in X_batch.T]\n",
    "                grad = np.mean(X_batch * errors.reshape(-1, 1), axis=0)\n",
    "\n",
    "                self.coeff += -0.01 * np.array(grad)\n",
    "\n",
    "                total_loss += loss\n",
    "                total_accuracy += accuracy\n",
    "\n",
    "            print(f\"epoch: {epoch} acc: {total_accuracy / steps} loss: {total_loss / steps}\")\n",
    "\n",
    "            self.losses.append(total_loss / steps)\n",
    "            self.accs.append(total_accuracy / steps)\n",
    "    \n",
    "    def predict(self, X: np.ndarray):\n",
    "        X = np.hstack((np.ones((X.shape[0], 1)), X))\n",
    "        return np.dot(self.coeff, X.T)\n",
    "    \n",
    "    def r_squared(self, pred: np.ndarray, y: np.ndarray):\n",
    "        return np.sum((pred - pred.mean()) ** 2) / (np.sum((y - y.mean()) ** 2))\n",
    "    \n",
    "regressor = LinearRegression()\n",
    "regressor.fit(X_train, y_train, epochs=100, batch_size=64, print_every=-1)\n",
    "pred = regressor.predict(X_test)\n",
    "regressor.r_squared(pred, y_test)"
   ]
  },
  {
   "cell_type": "code",
   "execution_count": null,
   "metadata": {},
   "outputs": [],
   "source": [
    "plt.subplots(3, 1)\n",
    "plt.subplot(3, 1, 1)\n",
    "plt.plot(regressor.losses)\n",
    "plt.title(\"Loss\")\n",
    "plt.subplot(3, 1, 2)\n",
    "plt.plot(regressor.accs)\n",
    "plt.title(\"Accuracy\")\n",
    "plt.tight_layout()\n",
    "plt.show()"
   ]
  }
 ],
 "metadata": {
  "kernelspec": {
   "display_name": "scratch_venv",
   "language": "python",
   "name": "python3"
  },
  "language_info": {
   "codemirror_mode": {
    "name": "ipython",
    "version": 3
   },
   "file_extension": ".py",
   "mimetype": "text/x-python",
   "name": "python",
   "nbconvert_exporter": "python",
   "pygments_lexer": "ipython3",
   "version": "3.10.12"
  }
 },
 "nbformat": 4,
 "nbformat_minor": 2
}
